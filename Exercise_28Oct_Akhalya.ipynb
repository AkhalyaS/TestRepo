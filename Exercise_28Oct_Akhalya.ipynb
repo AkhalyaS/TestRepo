{
 "cells": [
  {
   "cell_type": "code",
   "execution_count": 27,
   "id": "95fe9872",
   "metadata": {},
   "outputs": [
    {
     "name": "stdout",
     "output_type": "stream",
     "text": [
      "Enter the principal amount :2.5\n",
      "Enter loan tenure :2.5\n",
      "Enter the interest rate :2.5\n",
      "The simple interest is  0.15625\n"
     ]
    }
   ],
   "source": [
    "# Q1. Compute the simple terest using the formula interest = p * n * r / 100 where p is principal, n is tenure of loan, and r is rate of interest.\n",
    "##### Accept p, n, r from users and then perform the interest calculation.\n",
    "\n",
    "p=eval(input(\"Enter the principal amount :\"))\n",
    "n=eval(input(\"Enter loan tenure :\"))\n",
    "r=eval(input(\"Enter the interest rate :\"))    \n",
    "si=(p*n*r)/100\n",
    "print(\"The simple interest is \",si)\n"
   ]
  },
  {
   "cell_type": "code",
   "execution_count": 11,
   "id": "e10c8427",
   "metadata": {},
   "outputs": [
    {
     "name": "stdout",
     "output_type": "stream",
     "text": [
      "please enter weight in kg :.1\n",
      "The weight is 0.22000000000000003 pounds\n"
     ]
    }
   ],
   "source": [
    "##### Q2. Write a program that asks user weight in kilogram and converts into pounds. There are 2.2 pound in one kilogram.\n",
    "\n",
    "kg_wt=float(input(\"Please enter weight in kilograms :\"))\n",
    "lb_wt=kg_wt*2.2\n",
    "print(f\"The weight is {lb_wt} pounds\")\n",
    "\n"
   ]
  },
  {
   "cell_type": "code",
   "execution_count": 17,
   "id": "2d8d2dbc",
   "metadata": {},
   "outputs": [
    {
     "name": "stdout",
     "output_type": "stream",
     "text": [
      "Please enter a string :qwerty\n",
      "The length of the string entered is : 6\n",
      "String repeated 5 times : qwertyqwertyqwertyqwertyqwerty\n",
      "The first and last characters of the string are : q y\n",
      "The first and last three characters of the string are:  qwe rty\n",
      "The string written backwards : ytrewq\n",
      "The string with the last character removed : qwert\n"
     ]
    }
   ],
   "source": [
    "# Q3 Accept string input from user and then print the following with the user entered string\n",
    "#     - length of string\n",
    "#     - repeat the string 5 times\n",
    "#     - first and last characters of the string\n",
    "#     - first and last three characters of string\n",
    "#     - string backwards\n",
    "#     - string with last character removed \n",
    "\n",
    "my_str=input(\"Please enter a string :\")\n",
    "print(\"The length of the string entered is :\",len(my_str))\n",
    "print(\"String repeated 5 times :\",my_str*5)\n",
    "print(\"The first and last characters of the string are :\",my_str[0], my_str[-1])\n",
    "print(\"The first and last three characters of the string are: \",my_str[0:3], my_str[-3: ])\n",
    "print(\"The string written backwards :\",my_str[ : :-1])\n",
    "print(\"The string with the last character removed :\",my_str[0:len(my_str)-1])\n",
    "\n",
    "\n"
   ]
  },
  {
   "cell_type": "code",
   "execution_count": 25,
   "id": "154d5ff6",
   "metadata": {},
   "outputs": [
    {
     "name": "stdout",
     "output_type": "stream",
     "text": [
      "Enter the main string :hello\n",
      "Enter the string that nedds to be searched for :q\n",
      "False\n"
     ]
    }
   ],
   "source": [
    "#Q4. Ask user to input two strings - first string is statement in which the second string needs to be looked upon. \n",
    "# Then using the string methods determine whether second string is present in first string or not. \n",
    "# Inform the user about the result\n",
    "\n",
    "main_str=input(\"Enter the main string :\")\n",
    "search_str=input(\"Enter the string that nedds to be searched for :\")\n",
    "result=search_str in main_str\n",
    "print(result)"
   ]
  },
  {
   "cell_type": "code",
   "execution_count": null,
   "id": "37e0c576",
   "metadata": {},
   "outputs": [],
   "source": [
    "#Q5. Ask the user to input a string , then output the same string in lowercase, uppercase and reverse manner.\n",
    "\n",
    "mystr=input(\"Enter the string :\")\n",
    "print(\"The string in lowercase :\",mystr.lower())\n",
    "print(\"The string in uppercase :\",mystr.upper())\n",
    "print(\"The string reversed :\",mystr[-1: :-1])\n"
   ]
  }
 ],
 "metadata": {
  "kernelspec": {
   "display_name": "Python 3 (ipykernel)",
   "language": "python",
   "name": "python3"
  },
  "language_info": {
   "codemirror_mode": {
    "name": "ipython",
    "version": 3
   },
   "file_extension": ".py",
   "mimetype": "text/x-python",
   "name": "python",
   "nbconvert_exporter": "python",
   "pygments_lexer": "ipython3",
   "version": "3.9.7"
  }
 },
 "nbformat": 4,
 "nbformat_minor": 5
}
