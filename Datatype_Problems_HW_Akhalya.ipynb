{
 "cells": [
  {
   "cell_type": "code",
   "execution_count": 39,
   "id": "daaf8e15",
   "metadata": {},
   "outputs": [
    {
     "name": "stdout",
     "output_type": "stream",
     "text": [
      "Enter the radius of the circle :2\n",
      "The area of circle with radius is : 12.566370614359172\n"
     ]
    }
   ],
   "source": [
    "#### 1. Write a Python program which accepts the radius of a circle from the user and compute the area.\n",
    "import math\n",
    "def area_circle(radius):\n",
    "    area=math.pi*radius**2\n",
    "    return area\n",
    "\n",
    "area=area_circle (eval(input(\"Enter the radius of the circle :\")))\n",
    "print(f\"The area of circle with radius is :\", area)\n",
    " "
   ]
  },
  {
   "cell_type": "code",
   "execution_count": 14,
   "id": "54a170d9",
   "metadata": {},
   "outputs": [
    {
     "name": "stdout",
     "output_type": "stream",
     "text": [
      "Enter the number of items in the list :3\n",
      "0\n",
      "10\n",
      "5\n",
      "[0, 10, 5]\n",
      "The result of multiplication of the list of numbers provided : 0\n"
     ]
    }
   ],
   "source": [
    "#### Multiplying items in a list\n",
    "\n",
    "def multiply(my_list):\n",
    "    result=1 \n",
    "    for i in my_list: \n",
    "        result=result*i \n",
    "    return result\n",
    "\n",
    "# Getting values of the list\n",
    "n=int(input(\"Enter the number of items in the list :\")) \n",
    "my_list=[] \n",
    "for i in range(n): \n",
    "    element=eval(input()) \n",
    "    my_list.append(element) \n",
    "print(my_list)\n",
    "\n",
    "result=multiply(my_list) #Calling function multiply \n",
    "print(\"The result of multiplication of the list of numbers provided :\",result)"
   ]
  },
  {
   "cell_type": "code",
   "execution_count": 15,
   "id": "3edf7b34",
   "metadata": {},
   "outputs": [
    {
     "name": "stdout",
     "output_type": "stream",
     "text": [
      "Enter the number of items in the list :3\n",
      "-1\n",
      "0\n",
      "1\n",
      "[-1, 0, 1]\n",
      "The smallest number in the list : -1\n"
     ]
    }
   ],
   "source": [
    "#### 3. Write a Python program to get the smallest number from a list.\n",
    "\n",
    "def smallest(my_list):\n",
    "    min=my_list[0]\n",
    "    for i in my_list:\n",
    "        if i<min:\n",
    "            min=i\n",
    "    return min\n",
    "\n",
    "# Getting values of the list\n",
    "n=int(input(\"Enter the number of items in the list :\"))\n",
    "my_list=[]\n",
    "for i in range(n):\n",
    "    element=eval(input())\n",
    "    my_list.append(element)\n",
    "print(my_list)    \n",
    "\n",
    "result=smallest(my_list) #Calling function smallest\n",
    "print(\"The smallest number in the list :\",result)\n"
   ]
  },
  {
   "cell_type": "code",
   "execution_count": 19,
   "id": "d71a731f",
   "metadata": {},
   "outputs": [
    {
     "name": "stdout",
     "output_type": "stream",
     "text": [
      "Enter string :qwerty 10\n",
      "Length of the string : 9\n"
     ]
    }
   ],
   "source": [
    "#### 4. Write a Python program to calculate the length of a string.\n",
    "str=input(\"Enter string :\")\n",
    "count=0\n",
    "for i in str:\n",
    "    count=count+1\n",
    "print(\"Length of the string :\",count)"
   ]
  },
  {
   "cell_type": "code",
   "execution_count": 1,
   "id": "114f6fbf",
   "metadata": {},
   "outputs": [
    {
     "name": "stdout",
     "output_type": "stream",
     "text": [
      "enter string :Hi\n",
      "['H', 'i']\n",
      "H appears 1 times.\n",
      "i appears 1 times.\n"
     ]
    }
   ],
   "source": [
    "#### 5. Write a Python program to count the number of characters (character frequency) in a string.\n",
    "\n",
    "my_str=input(\"enter string :\")\n",
    "#separating each character into a list\n",
    "str_lst=[]\n",
    "for i in my_str:\n",
    "    str_lst.append(i)\n",
    "print(str_lst)\n",
    "check_list=[] #collects unique characters so that duplicates are not executed in the for loop\n",
    "\n",
    "#Taking each letter in the separated list and comparing it with every other element (in a progressive manner)\n",
    "#and adding to count if the letter repeats\n",
    "for i in range(len(str_lst)):\n",
    "    if str_lst[i] in check_list:\n",
    "        continue\n",
    "    else:\n",
    "        check_list.append(str_lst[i])\n",
    "        count=1\n",
    "        for j in str_lst[i+1:]:\n",
    "            if str_lst[i] == j:\n",
    "                count=count+1\n",
    "        print(f\"{str_lst[i]} appears {count} times.\")"
   ]
  }
 ],
 "metadata": {
  "kernelspec": {
   "display_name": "Python 3 (ipykernel)",
   "language": "python",
   "name": "python3"
  },
  "language_info": {
   "codemirror_mode": {
    "name": "ipython",
    "version": 3
   },
   "file_extension": ".py",
   "mimetype": "text/x-python",
   "name": "python",
   "nbconvert_exporter": "python",
   "pygments_lexer": "ipython3",
   "version": "3.9.7"
  }
 },
 "nbformat": 4,
 "nbformat_minor": 5
}
